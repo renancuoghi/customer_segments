{
 "cells": [
  {
   "cell_type": "code",
   "execution_count": 1,
   "metadata": {
    "collapsed": false
   },
   "outputs": [
    {
     "name": "stdout",
     "output_type": "stream",
     "text": [
      "Wholesale customers dataset has 440 samples with 6 features each.\n"
     ]
    }
   ],
   "source": [
    "# Import libraries necessary for this project\n",
    "import numpy as np\n",
    "import pandas as pd\n",
    "from IPython.display import display # Allows the use of display() for DataFrames\n",
    "\n",
    "# Import supplementary visualizations code visuals.py\n",
    "import visuals as vs\n",
    "\n",
    "# Pretty display for notebooks\n",
    "%matplotlib inline\n",
    "\n",
    "# Load the wholesale customers dataset\n",
    "try:\n",
    "    data = pd.read_csv(\"customers.csv\")\n",
    "    data.drop(['Region', 'Channel'], axis = 1, inplace = True)\n",
    "    print \"Wholesale customers dataset has {} samples with {} features each.\".format(*data.shape)\n",
    "except:\n",
    "    print \"Dataset could not be loaded. Is the dataset missing?\""
   ]
  },
  {
   "cell_type": "code",
   "execution_count": 2,
   "metadata": {
    "collapsed": false
   },
   "outputs": [
    {
     "data": {
      "text/html": [
       "<div>\n",
       "<table border=\"1\" class=\"dataframe\">\n",
       "  <thead>\n",
       "    <tr style=\"text-align: right;\">\n",
       "      <th></th>\n",
       "      <th>Fresh</th>\n",
       "      <th>Milk</th>\n",
       "      <th>Grocery</th>\n",
       "      <th>Frozen</th>\n",
       "      <th>Delicatessen</th>\n",
       "    </tr>\n",
       "  </thead>\n",
       "  <tbody>\n",
       "    <tr>\n",
       "      <th>0</th>\n",
       "      <td>12669</td>\n",
       "      <td>9656</td>\n",
       "      <td>7561</td>\n",
       "      <td>214</td>\n",
       "      <td>1338</td>\n",
       "    </tr>\n",
       "    <tr>\n",
       "      <th>1</th>\n",
       "      <td>7057</td>\n",
       "      <td>9810</td>\n",
       "      <td>9568</td>\n",
       "      <td>1762</td>\n",
       "      <td>1776</td>\n",
       "    </tr>\n",
       "    <tr>\n",
       "      <th>2</th>\n",
       "      <td>6353</td>\n",
       "      <td>8808</td>\n",
       "      <td>7684</td>\n",
       "      <td>2405</td>\n",
       "      <td>7844</td>\n",
       "    </tr>\n",
       "    <tr>\n",
       "      <th>3</th>\n",
       "      <td>13265</td>\n",
       "      <td>1196</td>\n",
       "      <td>4221</td>\n",
       "      <td>6404</td>\n",
       "      <td>1788</td>\n",
       "    </tr>\n",
       "    <tr>\n",
       "      <th>4</th>\n",
       "      <td>22615</td>\n",
       "      <td>5410</td>\n",
       "      <td>7198</td>\n",
       "      <td>3915</td>\n",
       "      <td>5185</td>\n",
       "    </tr>\n",
       "  </tbody>\n",
       "</table>\n",
       "</div>"
      ],
      "text/plain": [
       "   Fresh  Milk  Grocery  Frozen  Delicatessen\n",
       "0  12669  9656     7561     214          1338\n",
       "1   7057  9810     9568    1762          1776\n",
       "2   6353  8808     7684    2405          7844\n",
       "3  13265  1196     4221    6404          1788\n",
       "4  22615  5410     7198    3915          5185"
      ]
     },
     "execution_count": 2,
     "metadata": {},
     "output_type": "execute_result"
    }
   ],
   "source": [
    "# TODO: Make a copy of the DataFrame, using the 'drop' function to drop the given feature\n",
    "new_data = data\n",
    "new_data['Detergents_Paper']\n",
    "new_data = new_data.drop('Detergents_Paper',1)\n",
    "new_data.head()"
   ]
  },
  {
   "cell_type": "code",
   "execution_count": 3,
   "metadata": {
    "collapsed": false
   },
   "outputs": [
    {
     "name": "stdout",
     "output_type": "stream",
     "text": [
      "Trained model in 0.0024 seconds\n",
      "R2 Score: 0.9211\n"
     ]
    }
   ],
   "source": [
    "\n",
    "# TODO: Split the data into training and testing sets using the given feature as the target\n",
    "from sklearn import cross_validation\n",
    "feature_cols = list(new_data.columns)\n",
    "target_col = new_data.columns\n",
    "# Separate the data into feature data and target data\n",
    "X_all = new_data[feature_cols]\n",
    "y_all = new_data[target_col]\n",
    "X_train, X_test, y_train, y_test = cross_validation.train_test_split(X_all, \n",
    "                                                                     y_all, \n",
    "                                                                     test_size=0.25, \n",
    "                                                                     random_state=42)\n",
    "\n",
    "# TODO: Create a decision tree regressor and fit it to the training set\n",
    "from sklearn.tree import DecisionTreeRegressor\n",
    "from time import time\n",
    "regressor = DecisionTreeRegressor(max_depth=5)\n",
    "# count the time\n",
    "start = time()\n",
    "# fit\n",
    "regressor.fit(X_train, y_train)\n",
    "end = time()\n",
    "# Print the results\n",
    "print \"Trained model in {:.4f} seconds\".format(end - start)\n",
    "\n",
    "# TODO: Report the score of the prediction using the testing set\n",
    "# import r2 to regression metric\n",
    "from sklearn.metrics import r2_score\n",
    "y_pred = regressor.predict(X_train)\n",
    "score = r2_score(y_train.values, y_pred, multioutput='variance_weighted')\n",
    "\n",
    "print \"R2 Score: {:.4f}\".format(score)"
   ]
  },
  {
   "cell_type": "code",
   "execution_count": null,
   "metadata": {
    "collapsed": true
   },
   "outputs": [],
   "source": []
  }
 ],
 "metadata": {
  "kernelspec": {
   "display_name": "Python 2",
   "language": "python",
   "name": "python2"
  },
  "language_info": {
   "codemirror_mode": {
    "name": "ipython",
    "version": 2
   },
   "file_extension": ".py",
   "mimetype": "text/x-python",
   "name": "python",
   "nbconvert_exporter": "python",
   "pygments_lexer": "ipython2",
   "version": "2.7.12"
  }
 },
 "nbformat": 4,
 "nbformat_minor": 0
}
